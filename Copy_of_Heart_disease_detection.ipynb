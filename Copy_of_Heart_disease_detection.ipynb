{
  "nbformat": 4,
  "nbformat_minor": 0,
  "metadata": {
    "colab": {
      "provenance": [],
      "include_colab_link": true
    },
    "kernelspec": {
      "name": "python3",
      "display_name": "Python 3"
    },
    "language_info": {
      "name": "python"
    }
  },
  "cells": [
    {
      "cell_type": "markdown",
      "metadata": {
        "id": "view-in-github",
        "colab_type": "text"
      },
      "source": [
        "<a href=\"https://colab.research.google.com/github/DattaNTR/Heart-Disease-Detection/blob/main/Copy_of_Heart_disease_detection.ipynb\" target=\"_parent\"><img src=\"https://colab.research.google.com/assets/colab-badge.svg\" alt=\"Open In Colab\"/></a>"
      ]
    },
    {
      "cell_type": "markdown",
      "source": [
        "# **HEART DISEASE DETECTION**"
      ],
      "metadata": {
        "id": "x40r_1z97YAK"
      }
    },
    {
      "cell_type": "code",
      "source": [
        "from google.colab import drive\n",
        "drive.mount('/content/drive')"
      ],
      "metadata": {
        "id": "DfBI8mjBQIen"
      },
      "execution_count": null,
      "outputs": []
    },
    {
      "cell_type": "markdown",
      "source": [
        "## **I. Importing required libraries**"
      ],
      "metadata": {
        "id": "p_xwyvJJ7kX7"
      }
    },
    {
      "cell_type": "code",
      "source": [
        "import numpy as np\n",
        "import pandas as pd\n",
        "import matplotlib.pyplot as plt\n",
        "import seaborn as sns\n",
        "import os\n",
        "import warnings\n",
        "%matplotlib inline\n",
        "print(os.listdir())\n",
        "warnings.filterwarnings('ignore')"
      ],
      "metadata": {
        "id": "NShGoQW48Gp5"
      },
      "execution_count": null,
      "outputs": []
    },
    {
      "cell_type": "markdown",
      "source": [
        "## **II. Importing and understanding the dataset**"
      ],
      "metadata": {
        "id": "OOvctzm98ftV"
      }
    },
    {
      "cell_type": "code",
      "source": [
        "data = pd.read_csv(\"/content/heart (1).csv\")"
      ],
      "metadata": {
        "id": "0Ln8_Obm8rsg"
      },
      "execution_count": null,
      "outputs": []
    },
    {
      "cell_type": "markdown",
      "source": [
        "### Verifying whether it is a 'dataframe' object in pandas or not"
      ],
      "metadata": {
        "id": "W95oBy4b8z6w"
      }
    },
    {
      "cell_type": "code",
      "source": [
        "type(data)"
      ],
      "metadata": {
        "id": "24-_wVXF9Pvq"
      },
      "execution_count": null,
      "outputs": []
    },
    {
      "cell_type": "markdown",
      "source": [
        "### Shape of dataset"
      ],
      "metadata": {
        "id": "DnjzACzE97DU"
      }
    },
    {
      "cell_type": "code",
      "source": [
        "data.shape"
      ],
      "metadata": {
        "id": "I9PaaIuA-KAl"
      },
      "execution_count": null,
      "outputs": []
    },
    {
      "cell_type": "markdown",
      "source": [
        "### Printing out a few columns"
      ],
      "metadata": {
        "id": "MD9v1XaV-R8p"
      }
    },
    {
      "cell_type": "code",
      "source": [
        "data.head(5)"
      ],
      "metadata": {
        "id": "EbfYRAwO-QjG"
      },
      "execution_count": null,
      "outputs": []
    },
    {
      "cell_type": "markdown",
      "source": [
        "### Description of dataset"
      ],
      "metadata": {
        "id": "CRVeKa8h-drv"
      }
    },
    {
      "cell_type": "code",
      "source": [
        "data.describe()"
      ],
      "metadata": {
        "id": "2mzhmjCM-c1V"
      },
      "execution_count": null,
      "outputs": []
    },
    {
      "cell_type": "code",
      "source": [
        "data.info()"
      ],
      "metadata": {
        "id": "KkEPUVwv-lYi"
      },
      "execution_count": null,
      "outputs": []
    },
    {
      "cell_type": "markdown",
      "source": [
        "### Understanding our columns much better"
      ],
      "metadata": {
        "id": "okzmcn87-8St"
      }
    },
    {
      "cell_type": "code",
      "source": [
        "info = [\"age\",\n",
        "        \"1: male, 0: female\",\n",
        "        \"chest pain type, 1: typical angina, 2: atypical angina, 3: non-anginal pain, 4: asymptomatic\",\n",
        "        \"resting blood pressure\",\n",
        "        \"serum cholestoral in mg/dl\",\n",
        "        \"fasting blood sugar > 120 mg/dl\",\n",
        "        \"resting ECG values(0,1,2)\",\n",
        "        \"max heartrate achieved\",\n",
        "        \"exercise induced angina\",\n",
        "        \"oldpeak = ST depression induced by exercise relative to rest\",\n",
        "        \"the slope of the peak exercise ST segment\",\n",
        "        \"no. of major vessels (0-3) colored by flourosopy\",\n",
        "        \"thal: 3 = normal, 6 = fixed defect, 7 = revrsable defect\"]\n",
        "\n",
        "for i in range(len(info)):\n",
        "  print(data.columns[i]+\":\\t\\t\"+info[i])"
      ],
      "metadata": {
        "id": "pFrBMRQd_Cc-"
      },
      "execution_count": null,
      "outputs": []
    },
    {
      "cell_type": "markdown",
      "source": [
        "### Analysing the 'target' variable"
      ],
      "metadata": {
        "id": "JGPYwERKBiWm"
      }
    },
    {
      "cell_type": "code",
      "source": [
        "data[\"target\"].describe()"
      ],
      "metadata": {
        "id": "7e8BEAOnBoYn"
      },
      "execution_count": null,
      "outputs": []
    },
    {
      "cell_type": "code",
      "source": [
        "data[\"target\"].unique()"
      ],
      "metadata": {
        "id": "ePGdKOTTBtPA"
      },
      "execution_count": null,
      "outputs": []
    },
    {
      "cell_type": "markdown",
      "source": [
        "## **III. Exploratory Data Analysis (EDA)**"
      ],
      "metadata": {
        "id": "KwZ8TP73CYlX"
      }
    },
    {
      "cell_type": "markdown",
      "source": [
        "### Analysing the target variable"
      ],
      "metadata": {
        "id": "nUioylgcCieC"
      }
    },
    {
      "cell_type": "code",
      "source": [
        "y = data[\"target\"]\n",
        "target_temp = data.target.value_counts()\n",
        "print(target_temp)\n",
        "print(\"Percentage of patience without heart problems: \"+str(round(target_temp[0]*100/303,2)))\n",
        "print(\"Percentage of patience with heart problems: \"+str(round(target_temp[1]*100/303,2)))"
      ],
      "metadata": {
        "id": "N6-cWG7VCVEs"
      },
      "execution_count": null,
      "outputs": []
    },
    {
      "cell_type": "markdown",
      "source": [
        "# **IV. Train Test Split**"
      ],
      "metadata": {
        "id": "txb3JftKlnaK"
      }
    },
    {
      "cell_type": "code",
      "source": [
        "from sklearn.model_selection import train_test_split\n",
        "X = data.drop(\"target\",axis=1)\n",
        "Y = data[\"target\"]\n",
        "X_train, X_test, Y_train, Y_test = train_test_split(X, Y, test_size=0.20, random_state=0)"
      ],
      "metadata": {
        "id": "zWvdL-u7mIJn"
      },
      "execution_count": null,
      "outputs": []
    },
    {
      "cell_type": "code",
      "source": [
        "X_train.shape"
      ],
      "metadata": {
        "id": "K4yh5HeAogmb"
      },
      "execution_count": null,
      "outputs": []
    },
    {
      "cell_type": "code",
      "source": [
        "X_test.shape"
      ],
      "metadata": {
        "id": "PXF7oW45ohST"
      },
      "execution_count": null,
      "outputs": []
    },
    {
      "cell_type": "code",
      "source": [
        "Y_train.shape"
      ],
      "metadata": {
        "id": "npO12n7mokbd"
      },
      "execution_count": null,
      "outputs": []
    },
    {
      "cell_type": "code",
      "source": [
        "Y_test.shape"
      ],
      "metadata": {
        "id": "-yCy9bu0okiW"
      },
      "execution_count": null,
      "outputs": []
    },
    {
      "cell_type": "markdown",
      "source": [
        "# **V. Model Fitting**"
      ],
      "metadata": {
        "id": "FriFSOmjoxGv"
      }
    },
    {
      "cell_type": "code",
      "source": [
        "from sklearn.metrics import accuracy_score"
      ],
      "metadata": {
        "id": "Ci3rXYa-o3mp"
      },
      "execution_count": null,
      "outputs": []
    },
    {
      "cell_type": "markdown",
      "source": [
        "## Logistic Regression"
      ],
      "metadata": {
        "id": "Lp3eThYjo87W"
      }
    },
    {
      "cell_type": "code",
      "source": [
        "from sklearn.linear_model import LogisticRegression\n",
        "lr = LogisticRegression()\n",
        "lr.fit(X_train, Y_train)\n",
        "Y_pred_lr = lr.predict(X_test)\n",
        "score_lr = round(accuracy_score(Y_pred_lr, Y_test)*100,2)\n",
        "print(\"The accuracy score achieved using Logistic Regression is: \"+str(score_lr)+\"%\")"
      ],
      "metadata": {
        "id": "lAN9-faKpBBm"
      },
      "execution_count": null,
      "outputs": []
    },
    {
      "cell_type": "markdown",
      "source": [
        "## Support Vector Machine (SVM)"
      ],
      "metadata": {
        "id": "Q2QSMlC7qpFL"
      }
    },
    {
      "cell_type": "code",
      "source": [
        "from sklearn.svm import SVC\n",
        "sv = SVC(kernel='linear')\n",
        "sv.fit(X_train, Y_train)\n",
        "Y_pred_svm = sv.predict(X_test)\n",
        "score_svm = round(accuracy_score(Y_pred_svm, Y_test)*100,2)\n",
        "print(\"The accuracy score achieved using SVM is: \"+str(score_lr)+\"%\")"
      ],
      "metadata": {
        "id": "0YtmnBO3qtW7"
      },
      "execution_count": null,
      "outputs": []
    },
    {
      "cell_type": "markdown",
      "source": [
        "## K Nearest Neighbors (KNN)"
      ],
      "metadata": {
        "id": "cMSp8I1brddd"
      }
    },
    {
      "cell_type": "code",
      "source": [
        "from sklearn.neighbors import KNeighborsClassifier\n",
        "knn = KNeighborsClassifier(n_neighbors=7)\n",
        "knn.fit(X_train, Y_train)\n",
        "Y_pred_knn = knn.predict(X_test)\n",
        "score_knn = round(accuracy_score(Y_pred_knn, Y_test)*100,2)\n",
        "print(\"The accuracy score achieved using KNN is: \"+str(score_knn)+\"%\")"
      ],
      "metadata": {
        "id": "LIP_QtK2rpKO"
      },
      "execution_count": null,
      "outputs": []
    },
    {
      "cell_type": "markdown",
      "source": [
        "## Decision Tree"
      ],
      "metadata": {
        "id": "AnYfnbU3tCCW"
      }
    },
    {
      "cell_type": "code",
      "source": [
        "from sklearn.tree import DecisionTreeClassifier\n",
        "max_accuracy = 0\n",
        "for x in range(2000):\n",
        "  dt = DecisionTreeClassifier(random_state=x)\n",
        "  dt.fit(X_train, Y_train)\n",
        "  Y_pred_dt = dt.predict(X_test)\n",
        "  curr_accuracy = round(accuracy_score(Y_pred_dt, Y_test)*100,2)\n",
        "  if(curr_accuracy > max_accuracy):\n",
        "    max_accuracy = curr_accuracy\n",
        "    best_x = x\n",
        "\n",
        "dt = DecisionTreeClassifier(random_state=best_x)\n",
        "dt.fit(X_train, Y_train)\n",
        "Y_pred_dt = dt.predict(X_test)\n",
        "score_dt = round(accuracy_score(Y_pred_dt, Y_test)*100,2)\n",
        "print(\"The accuracy score achieved using Decision Tree is: \"+str(score_dt)+\"%\")"
      ],
      "metadata": {
        "id": "izlU9sbttG31"
      },
      "execution_count": null,
      "outputs": []
    },
    {
      "cell_type": "markdown",
      "source": [
        "## Random Forest"
      ],
      "metadata": {
        "id": "fVMIkoKQurpU"
      }
    },
    {
      "cell_type": "code",
      "source": [
        "from sklearn.ensemble import RandomForestClassifier\n",
        "max_accuracy = 0\n",
        "for x in range(2000):\n",
        "  rf = RandomForestClassifier(random_state=x)\n",
        "  rf.fit(X_train, Y_train)\n",
        "  Y_pred_rf = rf.predict(X_test)\n",
        "  curr_accuracy = round(accuracy_score(Y_pred_rf, Y_test)*100,2)\n",
        "  if(curr_accuracy > max_accuracy):\n",
        "    max_accuracy = curr_accuracy\n",
        "    best_x = x\n",
        "\n",
        "rf = RandomForestClassifier(random_state=best_x)\n",
        "rf.fit(X_train, Y_train)\n",
        "Y_pred_rf = rf.predict(X_test)\n",
        "score_rf = round(accuracy_score(Y_pred_rf, Y_test)*100,2)\n",
        "print(\"The accuracy score achieved using Random Forest is: \"+str(score_rf)+\"%\")"
      ],
      "metadata": {
        "id": "XNn9DNJ3uyZW"
      },
      "execution_count": null,
      "outputs": []
    },
    {
      "cell_type": "markdown",
      "source": [
        "## XGBoost"
      ],
      "metadata": {
        "id": "1199YSzqrwHz"
      }
    },
    {
      "cell_type": "code",
      "source": [
        "import xgboost as xgb\n",
        "xgb_model = xgb.XGBClassifier(objective=\"binary:logistic\",random_state=42)\n",
        "xgb_model.fit(X_train, Y_train)\n",
        "Y_pred_xgb = xgb_model.predict(X_test)\n",
        "score_xgb = round(accuracy_score(Y_pred_xgb, Y_test)*100,2)\n",
        "print(\"The accuracy score achieved using XGBoost is: \"+str(score_xgb)+\"%\")"
      ],
      "metadata": {
        "id": "bOrYHqhQsqpY"
      },
      "execution_count": null,
      "outputs": []
    },
    {
      "cell_type": "markdown",
      "source": [
        "## Neural Network"
      ],
      "metadata": {
        "id": "wRLQfLGlvecO"
      }
    },
    {
      "cell_type": "code",
      "source": [
        "!pip install keras"
      ],
      "metadata": {
        "id": "bwmb5Msdvm5S"
      },
      "execution_count": null,
      "outputs": []
    },
    {
      "cell_type": "code",
      "source": [
        "from keras.models import Sequential\n",
        "from keras.layers import Dense"
      ],
      "metadata": {
        "id": "dE2jXnRkv_tF"
      },
      "execution_count": null,
      "outputs": []
    },
    {
      "cell_type": "code",
      "source": [
        "model = Sequential()\n",
        "model.add(Dense(11,activation='relu',input_dim=13))\n",
        "model.add(Dense(1,activation='sigmoid'))\n",
        "model.compile(loss='binary_crossentropy',optimizer='adam',metrics=['accuracy'])"
      ],
      "metadata": {
        "id": "pgHHLdRgwKf1"
      },
      "execution_count": null,
      "outputs": []
    },
    {
      "cell_type": "code",
      "source": [
        "model.fit(X_train, Y_train, epochs=300)"
      ],
      "metadata": {
        "id": "zq4XTlz0wxpl"
      },
      "execution_count": null,
      "outputs": []
    },
    {
      "cell_type": "code",
      "source": [
        "Y_pred_nn = model.predict(X_test)\n",
        "rounded = [round(x[0]) for x in Y_pred_nn]\n",
        "Y_pred_nn = rounded\n",
        "score_nn = round(accuracy_score(Y_pred_nn, Y_test)*100,2)\n",
        "print(\"The accuracy score achieved using Neural Network is: \"+str(score_nn)+\"%\")"
      ],
      "metadata": {
        "id": "R4RWhbjkw_bc"
      },
      "execution_count": null,
      "outputs": []
    },
    {
      "cell_type": "markdown",
      "source": [
        "# **VI. Output final score**"
      ],
      "metadata": {
        "id": "Y9ob6hjFyKDC"
      }
    },
    {
      "cell_type": "code",
      "source": [
        "scores = [score_lr, score_svm, score_knn, score_dt, score_rf, score_xgb, score_nn]\n",
        "algorithms = [\"Logistic Regression\",\"SVM\",\"KNN\",\"Decision Tree\",\"Random Forest\",\"XGBoost\",\"Neural Networks\"]\n",
        "for i in range(len(algorithms)):\n",
        "  print(\"The accuracy score achieved using \"+algorithms[i]+\" is: \"+str(scores[i])+\"%\")"
      ],
      "metadata": {
        "id": "Mvm_3hTHyX7v"
      },
      "execution_count": null,
      "outputs": []
    },
    {
      "cell_type": "code",
      "source": [
        "sns.set(rc={'figure.figsize':(10,4)})\n",
        "plt.xlabel(\"Algorithms\")\n",
        "plt.ylabel(\"Accuracy score\")\n",
        "sns.barplot(x=algorithms, y=scores)\n",
        "plt.show()"
      ],
      "metadata": {
        "id": "JAFoG0NN1ra4"
      },
      "execution_count": null,
      "outputs": []
    },
    {
      "cell_type": "markdown",
      "source": [
        "Therefore, Random Forest has good result when compared to other algorithms."
      ],
      "metadata": {
        "id": "oh7eYJ6p4C4J"
      }
    },
    {
      "cell_type": "markdown",
      "source": [
        "## **VII. Prediction on New Data**"
      ],
      "metadata": {
        "id": "xs5dR2Sa8_U9"
      }
    },
    {
      "cell_type": "code",
      "source": [
        "new_data = pd.DataFrame({\n",
        "    'age':52,\n",
        "    'sex':1,\n",
        "    'cp':0,\n",
        "    'trestbps':125,\n",
        "    'chol':212,\n",
        "    'fbs':0,\n",
        "    'restecg':1,\n",
        "    'thalach':168,\n",
        "    'exang':0,\n",
        "    'oldpeak':1.0,\n",
        "     'slope':2,\n",
        "    'ca':2,\n",
        "    'thal':3,\n",
        "},index=[0])"
      ],
      "metadata": {
        "id": "gJTj7zBp8p1k"
      },
      "execution_count": null,
      "outputs": []
    },
    {
      "cell_type": "code",
      "source": [
        "new_data"
      ],
      "metadata": {
        "id": "IyzvAejQ9Qec"
      },
      "execution_count": null,
      "outputs": []
    },
    {
      "cell_type": "code",
      "source": [
        "p = rf.predict(new_data)\n",
        "if p[0]==0:\n",
        "  print(\"No Disease\")\n",
        "else:\n",
        "  print(\"Disease\")"
      ],
      "metadata": {
        "id": "iJx0zBR78u9z"
      },
      "execution_count": null,
      "outputs": []
    },
    {
      "cell_type": "markdown",
      "source": [
        "## **VIII. Save Model Using Joblib**"
      ],
      "metadata": {
        "id": "IA6VHqmp9Vnu"
      }
    },
    {
      "cell_type": "code",
      "source": [
        "import joblib\n",
        "joblib.dump(rf,'trained_model.joblib')"
      ],
      "metadata": {
        "id": "8CuQW3OL9d9f"
      },
      "execution_count": null,
      "outputs": []
    },
    {
      "cell_type": "code",
      "source": [
        "from google.colab import files\n",
        "files.download('trained_model.joblib')"
      ],
      "metadata": {
        "id": "o2i_VgEXo3kk"
      },
      "execution_count": null,
      "outputs": []
    },
    {
      "cell_type": "markdown",
      "source": [
        "## **IX. GUI (Graphical User Interface)**"
      ],
      "metadata": {
        "id": "rbV_nTB-vPUm"
      }
    },
    {
      "cell_type": "code",
      "source": [
        "!pip install ipywidgets"
      ],
      "metadata": {
        "id": "-Pi3xs3npDEw"
      },
      "execution_count": null,
      "outputs": []
    },
    {
      "cell_type": "code",
      "source": [
        "!pip install Ipython"
      ],
      "metadata": {
        "id": "8KUXXXY5p5or"
      },
      "execution_count": null,
      "outputs": []
    },
    {
      "cell_type": "code",
      "source": [
        "import ipywidgets as widgets\n",
        "from IPython.display import display\n",
        "\n",
        "model = joblib.load('trained_model.joblib')\n",
        "\n",
        "def make_prediction(age, sex, cp, trestbps, chol, fbs, restecg, thalach, exang, oldpeak, slope, ca, thal):\n",
        "  input_data = [[age, sex, cp, trestbps, chol, fbs, restecg, thalach, exang, oldpeak, slope, ca, thal]]\n",
        "  prediction = model.predict(input_data)\n",
        "  if prediction[0] == 1:\n",
        "    result_label.value = \"Heart Disease Detected\"\n",
        "  else:\n",
        "    result_label.value = \"Heart Disease Not Detected\"\n",
        "\n",
        "age_input = widgets.FloatText(description='Age: ')\n",
        "sex_input = widgets.IntText(min=0, max=1, description='Sex: ')\n",
        "cp_input = widgets.IntText(min=1, max=4, description='Cerebral Palsy(CP): ')\n",
        "trestbps_input = widgets.FloatText(description='Resting Blood Pressure: ')\n",
        "chol_input = widgets.FloatText(description='Cholestrol: ')\n",
        "fbs_input = widgets.IntText(min=0, max=1, description='Fasting Blood SUgar: ')\n",
        "restecg_input = widgets.IntText(min=0, max=2, description='Resting ECG: ')\n",
        "thalach_input = widgets.FloatText(description='Max Heart Rate: ')\n",
        "exang_input = widgets.IntText(min=0, max=1, description='Exercise Induced Angina: ')\n",
        "oldpeak_input = widgets.FloatText(description='Oldpeak: ')\n",
        "slope_input = widgets.IntText(min=0, max=2, description='Slope: ')\n",
        "ca_input = widgets.IntText(min=0, max=3, description='Cardiac Arrest: ')\n",
        "thal_input = widgets.IntText(description='Thalassemia: ')\n",
        "\n",
        "result_label = widgets.Label(value=\"Prediction: \")\n",
        "widgets.interactive_output(\n",
        "    make_prediction,\n",
        "    {'age':age_input, 'sex': sex_input, 'cp': cp_input, 'trestbps': trestbps_input,\n",
        "     'chol': chol_input, 'fbs': fbs_input, 'restecg': restecg_input, 'thalach': thalach_input,\n",
        "     'exang': exang_input, 'oldpeak': oldpeak_input, 'slope': slope_input, 'ca': ca_input, 'thal': thal_input}\n",
        ")\n",
        "\n",
        "display(age_input, sex_input, cp_input, trestbps_input, chol_input, fbs_input, restecg_input, thalach_input, exang_input, oldpeak_input, slope_input,\n",
        "        ca_input, thal_input)\n",
        "display(result_label)\n"
      ],
      "metadata": {
        "id": "QTJMe4iIpIv3"
      },
      "execution_count": null,
      "outputs": []
    }
  ]
}